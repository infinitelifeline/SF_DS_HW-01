{
 "cells": [
  {
   "cell_type": "code",
   "execution_count": 1,
   "metadata": {},
   "outputs": [
    {
     "name": "stdout",
     "output_type": "stream",
     "text": [
      "Ваш алгоритм угадывает число в среднем за 7 попыток\n"
     ]
    }
   ],
   "source": [
    "import numpy as np\n",
    "def Guessing_Number(number: int = np.random.randint(1, 101)) -> int:\n",
    "    '''Устанавливаем случайное число, \n",
    "\n",
    "    Args:\n",
    "        number (int, optional): hidden number. Defaults to np.random.randint(1, 101).\n",
    "\n",
    "    Returns:\n",
    "        int: Количество попыток\n",
    "    '''\n",
    "     \n",
    "    count = 0\n",
    "    max_number = 1000\n",
    "    min_number = 0\n",
    "    predict_number = np.random.randint(1, 101) #Предполагаемое число\n",
    "    \n",
    "    while True:\n",
    "        \n",
    "        count += 1\n",
    "        if predict_number > number:\n",
    "            max_number = predict_number - 1\n",
    "            predict_number = (max_number + min_number) // 2\n",
    "            \n",
    "        elif predict_number < number:\n",
    "            min_number = predict_number + 1\n",
    "            predict_number = (max_number + min_number) // 2\n",
    "        \n",
    "        else:\n",
    "            break #Выход в случае определения числа\n",
    "        \n",
    "    return count\n",
    "    \n",
    "def score_game(Guessing_Number) -> int:\n",
    "    count_ls = [] #Список для кол-ва подсчетов\n",
    "    \n",
    "    np.random.seed(1) #Сид для воспроизводимости\n",
    "    random_array = np.random.randint(1, 101, size=(10000)) #Загадан список чисел\n",
    "    \n",
    "    for number in random_array:\n",
    "        count_ls.append(Guessing_Number(number))\n",
    "        \n",
    "    score = int(np.mean(count_ls)) #Подсчет среднего количества попыток\n",
    "    print(f'Ваш алгоритм угадывает число в среднем за {score} попыток')\n",
    "\n",
    "score_game(Guessing_Number)"
   ]
  }
 ],
 "metadata": {
  "kernelspec": {
   "display_name": "Python 3",
   "language": "python",
   "name": "python3"
  },
  "language_info": {
   "codemirror_mode": {
    "name": "ipython",
    "version": 3
   },
   "file_extension": ".py",
   "mimetype": "text/x-python",
   "name": "python",
   "nbconvert_exporter": "python",
   "pygments_lexer": "ipython3",
   "version": "3.9.6"
  },
  "orig_nbformat": 4
 },
 "nbformat": 4,
 "nbformat_minor": 2
}
